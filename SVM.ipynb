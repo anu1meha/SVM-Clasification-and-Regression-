{
 "cells": [
  {
   "cell_type": "code",
   "execution_count": null,
   "metadata": {},
   "outputs": [],
   "source": []
  },
  {
   "cell_type": "code",
   "execution_count": 35,
   "metadata": {},
   "outputs": [
    {
     "data": {
      "text/plain": [
       "'C:\\\\Users\\\\anumeha\\\\Downloads'"
      ]
     },
     "execution_count": 35,
     "metadata": {},
     "output_type": "execute_result"
    }
   ],
   "source": [
    "import os \n",
    "import pandas as pd\n",
    "import matplotlib.pyplot as plt\n",
    "import numpy as np  \n",
    "from sklearn import model_selection\n",
    "from sklearn.model_selection import train_test_split\n",
    "import matplotlib\n",
    "import matplotlib.pyplot as plt\n",
    "from sklearn.svm import SVR\n",
    "from sklearn.model_selection import RandomizedSearchCV\n",
    "from scipy.stats import reciprocal, uniform\n",
    "from sklearn.model_selection import LeaveOneOut\n",
    "from sklearn.model_selection import KFold\n",
    "from sklearn.model_selection import cross_val_score\n",
    "from sklearn.metrics import accuracy_score\n",
    "from sklearn.model_selection import GridSearchCV\n",
    "from sklearn.metrics import classification_report\n",
    "from sklearn import svm, datasets\n",
    "import matplotlib.pyplot as plt\n",
    "%matplotlib inline\n",
    "from sklearn.utils import shuffle\n",
    "os.getcwd()"
   ]
  },
  {
   "cell_type": "code",
   "execution_count": 2,
   "metadata": {},
   "outputs": [],
   "source": [
    "#Loading given Iris Data\n",
    "os.chdir(\"/Users/anumeha/Downloads/\")\n",
    "BC_data = pd.read_csv('data08_khan.csv', header=None)"
   ]
  },
  {
   "cell_type": "code",
   "execution_count": 3,
   "metadata": {},
   "outputs": [
    {
     "name": "stdout",
     "output_type": "stream",
     "text": [
      "<class 'pandas.core.frame.DataFrame'>\n",
      "RangeIndex: 83 entries, 0 to 82\n",
      "Columns: 2309 entries, 0 to 2308\n",
      "dtypes: float64(2308), int64(1)\n",
      "memory usage: 1.5 MB\n"
     ]
    }
   ],
   "source": [
    "BC_data.info()"
   ]
  },
  {
   "cell_type": "code",
   "execution_count": 4,
   "metadata": {},
   "outputs": [
    {
     "name": "stdout",
     "output_type": "stream",
     "text": [
      "(83, 2308)\n",
      "(83,)\n"
     ]
    }
   ],
   "source": [
    "array = BC_data.values\n",
    "#Select which part of the table is input and which part is output\n",
    "X = array[:,1:2309]\n",
    "y = array[:,0]\n",
    "print(X.shape)\n",
    "print(y.shape)"
   ]
  },
  {
   "cell_type": "code",
   "execution_count": 5,
   "metadata": {},
   "outputs": [
    {
     "name": "stdout",
     "output_type": "stream",
     "text": [
      "[[ 0.7733437  -2.438405   -0.4825622  ... -1.414282   -0.6476004\n",
      "  -1.763172  ]\n",
      " [-0.07817778 -2.415754    0.4127717  ... -1.093923   -1.20932\n",
      "  -0.8243955 ]\n",
      " [-0.08446916 -1.649739   -0.2413075  ... -1.965399   -0.805868\n",
      "  -1.139434  ]\n",
      " ...\n",
      " [-0.44581846 -1.38031229  0.29928944 ...  0.20961242 -0.19431317\n",
      "  -1.13662573]\n",
      " [ 0.25943691 -0.78263435 -1.27797822 ... -1.39352041 -1.01197598\n",
      "  -1.16091331]\n",
      " [-0.19249311 -1.06305211  0.20318571 ...  0.16058707 -0.34927383\n",
      "  -1.27332288]]\n"
     ]
    }
   ],
   "source": [
    "print(X)"
   ]
  },
  {
   "cell_type": "code",
   "execution_count": 6,
   "metadata": {},
   "outputs": [],
   "source": [
    "# Split the dataset in two equal parts\n",
    "X_train, X_test, y_train, y_test = train_test_split(\n",
    "    X, y, test_size=20, random_state=0)"
   ]
  },
  {
   "cell_type": "code",
   "execution_count": 7,
   "metadata": {},
   "outputs": [
    {
     "name": "stdout",
     "output_type": "stream",
     "text": [
      "(63, 2308)\n"
     ]
    }
   ],
   "source": [
    "print(X_train.shape)"
   ]
  },
  {
   "cell_type": "code",
   "execution_count": null,
   "metadata": {},
   "outputs": [],
   "source": []
  },
  {
   "cell_type": "code",
   "execution_count": null,
   "metadata": {},
   "outputs": [],
   "source": []
  },
  {
   "cell_type": "code",
   "execution_count": null,
   "metadata": {},
   "outputs": [],
   "source": []
  },
  {
   "cell_type": "code",
   "execution_count": null,
   "metadata": {},
   "outputs": [],
   "source": []
  },
  {
   "cell_type": "code",
   "execution_count": null,
   "metadata": {},
   "outputs": [],
   "source": []
  },
  {
   "cell_type": "code",
   "execution_count": null,
   "metadata": {},
   "outputs": [],
   "source": []
  },
  {
   "cell_type": "code",
   "execution_count": 15,
   "metadata": {},
   "outputs": [],
   "source": [
    "# Set the parameters by cross-validation\n",
    "parameters = [{'kernel': ['rbf'],\n",
    "               'gamma': [1e-4, 1e-3, 0.01, 0.1, 0.2, 0.5],\n",
    "                'C': [1, 10, 100, 1000]},\n",
    "              {'kernel': ['linear'], 'C': [1, 10, 100, 1000]}]"
   ]
  },
  {
   "cell_type": "code",
   "execution_count": 16,
   "metadata": {},
   "outputs": [
    {
     "name": "stdout",
     "output_type": "stream",
     "text": [
      "# Tuning hyper-parameters\n",
      "\n"
     ]
    },
    {
     "name": "stderr",
     "output_type": "stream",
     "text": [
      "C:\\Users\\anumeha\\Anaconda2\\envs\\testing\\lib\\site-packages\\sklearn\\model_selection\\_search.py:841: DeprecationWarning: The default of the `iid` parameter will change from True to False in version 0.22 and will be removed in 0.24. This will change numeric results when test-set sizes are unequal.\n",
      "  DeprecationWarning)\n"
     ]
    },
    {
     "data": {
      "text/plain": [
       "GridSearchCV(cv=5, error_score='raise-deprecating',\n",
       "       estimator=SVC(C=1.0, cache_size=200, class_weight=None, coef0=0.0,\n",
       "  decision_function_shape='ovr', degree=3, gamma='auto_deprecated',\n",
       "  kernel='rbf', max_iter=-1, probability=False, random_state=None,\n",
       "  shrinking=True, tol=0.001, verbose=False),\n",
       "       fit_params=None, iid='warn', n_jobs=None,\n",
       "       param_grid=[{'kernel': ['rbf'], 'gamma': [0.0001, 0.001, 0.01, 0.1, 0.2, 0.5], 'C': [1, 10, 100, 1000]}, {'kernel': ['linear'], 'C': [1, 10, 100, 1000]}],\n",
       "       pre_dispatch='2*n_jobs', refit=True, return_train_score='warn',\n",
       "       scoring=None, verbose=0)"
      ]
     },
     "execution_count": 16,
     "metadata": {},
     "output_type": "execute_result"
    }
   ],
   "source": [
    "print(\"# Tuning hyper-parameters\")\n",
    "print()\n",
    "clf = GridSearchCV(svm.SVC(decision_function_shape='ovr'), parameters, cv=5)\n",
    "clf.fit(X_train, y_train)"
   ]
  },
  {
   "cell_type": "code",
   "execution_count": 17,
   "metadata": {},
   "outputs": [
    {
     "name": "stdout",
     "output_type": "stream",
     "text": [
      "Best parameters set found on development set:\n",
      "\n",
      "{'C': 10, 'gamma': 0.0001, 'kernel': 'rbf'}\n",
      "\n",
      "Grid scores on training set:\n",
      "\n",
      "0.476 (+/-0.104) for {'C': 1, 'gamma': 0.0001, 'kernel': 'rbf'}\n",
      "0.952 (+/-0.076) for {'C': 1, 'gamma': 0.001, 'kernel': 'rbf'}\n",
      "0.381 (+/-0.054) for {'C': 1, 'gamma': 0.01, 'kernel': 'rbf'}\n",
      "0.365 (+/-0.021) for {'C': 1, 'gamma': 0.1, 'kernel': 'rbf'}\n",
      "0.365 (+/-0.021) for {'C': 1, 'gamma': 0.2, 'kernel': 'rbf'}\n",
      "0.365 (+/-0.021) for {'C': 1, 'gamma': 0.5, 'kernel': 'rbf'}\n",
      "0.984 (+/-0.059) for {'C': 10, 'gamma': 0.0001, 'kernel': 'rbf'}\n",
      "0.952 (+/-0.076) for {'C': 10, 'gamma': 0.001, 'kernel': 'rbf'}\n",
      "0.381 (+/-0.054) for {'C': 10, 'gamma': 0.01, 'kernel': 'rbf'}\n",
      "0.365 (+/-0.021) for {'C': 10, 'gamma': 0.1, 'kernel': 'rbf'}\n",
      "0.365 (+/-0.021) for {'C': 10, 'gamma': 0.2, 'kernel': 'rbf'}\n",
      "0.365 (+/-0.021) for {'C': 10, 'gamma': 0.5, 'kernel': 'rbf'}\n",
      "0.984 (+/-0.059) for {'C': 100, 'gamma': 0.0001, 'kernel': 'rbf'}\n",
      "0.952 (+/-0.076) for {'C': 100, 'gamma': 0.001, 'kernel': 'rbf'}\n",
      "0.381 (+/-0.054) for {'C': 100, 'gamma': 0.01, 'kernel': 'rbf'}\n",
      "0.365 (+/-0.021) for {'C': 100, 'gamma': 0.1, 'kernel': 'rbf'}\n",
      "0.365 (+/-0.021) for {'C': 100, 'gamma': 0.2, 'kernel': 'rbf'}\n",
      "0.365 (+/-0.021) for {'C': 100, 'gamma': 0.5, 'kernel': 'rbf'}\n",
      "0.984 (+/-0.059) for {'C': 1000, 'gamma': 0.0001, 'kernel': 'rbf'}\n",
      "0.952 (+/-0.076) for {'C': 1000, 'gamma': 0.001, 'kernel': 'rbf'}\n",
      "0.381 (+/-0.054) for {'C': 1000, 'gamma': 0.01, 'kernel': 'rbf'}\n",
      "0.365 (+/-0.021) for {'C': 1000, 'gamma': 0.1, 'kernel': 'rbf'}\n",
      "0.365 (+/-0.021) for {'C': 1000, 'gamma': 0.2, 'kernel': 'rbf'}\n",
      "0.365 (+/-0.021) for {'C': 1000, 'gamma': 0.5, 'kernel': 'rbf'}\n",
      "0.984 (+/-0.059) for {'C': 1, 'kernel': 'linear'}\n",
      "0.984 (+/-0.059) for {'C': 10, 'kernel': 'linear'}\n",
      "0.984 (+/-0.059) for {'C': 100, 'kernel': 'linear'}\n",
      "0.984 (+/-0.059) for {'C': 1000, 'kernel': 'linear'}\n",
      "\n"
     ]
    }
   ],
   "source": [
    "print(\"Best parameters set found on development set:\")\n",
    "print()\n",
    "print(clf.best_params_)\n",
    "print()\n",
    "print(\"Grid scores on training set:\")\n",
    "print()\n",
    "means = clf.cv_results_['mean_test_score']\n",
    "stds = clf.cv_results_['std_test_score']\n",
    "for mean, std, params in zip(means, stds, clf.cv_results_['params']):\n",
    "    print(\"%0.3f (+/-%0.03f) for %r\"\n",
    "          % (mean, std * 2, params))\n",
    "print()"
   ]
  },
  {
   "cell_type": "code",
   "execution_count": 57,
   "metadata": {},
   "outputs": [
    {
     "name": "stdout",
     "output_type": "stream",
     "text": [
      "Detailed classification report:\n",
      "\n",
      "The model is trained on the full development set.\n",
      "The scores are computed on the full evaluation set.\n",
      "\n",
      "              precision    recall  f1-score   support\n",
      "\n",
      "         1.0       1.00      1.00      1.00         3\n",
      "         2.0       1.00      1.00      1.00         6\n",
      "         3.0       1.00      1.00      1.00         6\n",
      "         4.0       1.00      1.00      1.00         5\n",
      "\n",
      "   micro avg       1.00      1.00      1.00        20\n",
      "   macro avg       1.00      1.00      1.00        20\n",
      "weighted avg       1.00      1.00      1.00        20\n",
      "\n",
      "\n"
     ]
    }
   ],
   "source": [
    "print(\"Detailed classification report:\")\n",
    "print()\n",
    "print(\"The model is trained on the full development set.\")\n",
    "print(\"The scores are computed on the full evaluation set.\")\n",
    "print()\n",
    "y_true, y_pred = y_test, clf.predict(X_test)\n",
    "print(classification_report(y_true, y_pred))\n",
    "print()"
   ]
  },
  {
   "cell_type": "code",
   "execution_count": 54,
   "metadata": {},
   "outputs": [
    {
     "name": "stdout",
     "output_type": "stream",
     "text": [
      "\n",
      "\n",
      "Results returned by GridSearchCV\n",
      "\n",
      "Best estimator:  SVC(C=10, cache_size=200, class_weight=None, coef0=0.0,\n",
      "  decision_function_shape='ovr', degree=3, gamma=0.0001, kernel='rbf',\n",
      "  max_iter=-1, probability=False, random_state=None, shrinking=True,\n",
      "  tol=0.001, verbose=False)\n",
      "\n",
      "\n",
      "Best score:  0.9841269841269841\n",
      "\n",
      "\n",
      "Best parameters found:  {'C': 10, 'gamma': 0.0001, 'kernel': 'rbf'}\n"
     ]
    }
   ],
   "source": [
    "print(\"\\n\")\n",
    "print(\"Results returned by GridSearchCV\\n\")\n",
    "print(\"Best estimator: \", clf.best_estimator_)\n",
    "print(\"\\n\")\n",
    "print(\"Best score: \", clf.best_score_)\n",
    "print(\"\\n\")\n",
    "print(\"Best parameters found: \", clf.best_params_)"
   ]
  },
  {
   "cell_type": "code",
   "execution_count": 76,
   "metadata": {},
   "outputs": [],
   "source": [
    "from sklearn.svm import SVR\n",
    "clf = SVR(gamma='scale', C=1.0, epsilon=0.2)\n",
    "clf.fit(X_train, y_train)\n",
    "pred=clf.predict(X_test)"
   ]
  },
  {
   "cell_type": "code",
   "execution_count": 77,
   "metadata": {},
   "outputs": [
    {
     "name": "stderr",
     "output_type": "stream",
     "text": [
      "C:\\Users\\anumeha\\Anaconda2\\envs\\testing\\lib\\site-packages\\sklearn\\svm\\base.py:196: FutureWarning: The default value of gamma will change from 'auto' to 'scale' in version 0.22 to account better for unscaled features. Set gamma explicitly to 'auto' or 'scale' to avoid this warning.\n",
      "  \"avoid this warning.\", FutureWarning)\n"
     ]
    }
   ],
   "source": [
    "svr_rbf = SVR(kernel='rbf', C=1e3, gamma=0.1)\n",
    "svr_lin = SVR(kernel='linear', C=1e3)\n",
    "svr_poly = SVR(kernel='poly', C=1e3, degree=2)\n",
    "y_rbf = svr_rbf.fit(X_train, y_train).predict(X_test)\n",
    "y_lin = svr_lin.fit(X_train, y_train).predict(X_test)\n",
    "y_poly = svr_poly.fit(X_train, y_train).predict(X_test)"
   ]
  },
  {
   "cell_type": "code",
   "execution_count": 78,
   "metadata": {},
   "outputs": [
    {
     "name": "stdout",
     "output_type": "stream",
     "text": [
      "(83, 2308)\n",
      "(83,)\n"
     ]
    }
   ],
   "source": [
    "print(X.shape)\n",
    "print(y.shape)"
   ]
  },
  {
   "cell_type": "code",
   "execution_count": 79,
   "metadata": {},
   "outputs": [
    {
     "name": "stdout",
     "output_type": "stream",
     "text": [
      "0.8090299616902805\n",
      "0.8090299616902805\n"
     ]
    }
   ],
   "source": [
    "print(clf.score(X_test,y_test))\n",
    "from sklearn.metrics import r2_score\n",
    "print(r2_score(y_test,pred))"
   ]
  },
  {
   "cell_type": "code",
   "execution_count": 82,
   "metadata": {},
   "outputs": [
    {
     "name": "stdout",
     "output_type": "stream",
     "text": [
      "-0.0033817609830626427\n",
      "0.9218444215126365\n",
      "0.9029634043592893\n"
     ]
    }
   ],
   "source": [
    "print(r2_score(y_test,y_rbf))\n",
    "print(r2_score(y_test,y_lin))\n",
    "print(r2_score(y_test,y_poly))"
   ]
  },
  {
   "cell_type": "code",
   "execution_count": 84,
   "metadata": {},
   "outputs": [
    {
     "name": "stdout",
     "output_type": "stream",
     "text": [
      "0.34359425578476455\n",
      "0.34359425578476455\n"
     ]
    },
    {
     "name": "stderr",
     "output_type": "stream",
     "text": [
      "C:\\Users\\anumeha\\Anaconda2\\envs\\testing\\lib\\site-packages\\sklearn\\svm\\base.py:196: FutureWarning: The default value of gamma will change from 'auto' to 'scale' in version 0.22 to account better for unscaled features. Set gamma explicitly to 'auto' or 'scale' to avoid this warning.\n",
      "  \"avoid this warning.\", FutureWarning)\n"
     ]
    }
   ],
   "source": [
    "#tuning parameters\n",
    "regressor=SVR(kernel='rbf',epsilon=1.0)\n",
    "regressor.fit(X_train, y_train)\n",
    "pred=regressor.predict(X_test)\n",
    "print(regressor.score(X_test,y_test))\n",
    "print(r2_score(y_test,pred))"
   ]
  },
  {
   "cell_type": "code",
   "execution_count": null,
   "metadata": {},
   "outputs": [],
   "source": []
  }
 ],
 "metadata": {
  "kernelspec": {
   "display_name": "Python 3",
   "language": "python",
   "name": "python3"
  },
  "language_info": {
   "codemirror_mode": {
    "name": "ipython",
    "version": 3
   },
   "file_extension": ".py",
   "mimetype": "text/x-python",
   "name": "python",
   "nbconvert_exporter": "python",
   "pygments_lexer": "ipython3",
   "version": "3.6.6"
  }
 },
 "nbformat": 4,
 "nbformat_minor": 2
}
