{
 "cells": [
  {
   "cell_type": "code",
   "execution_count": null,
   "metadata": {},
   "outputs": [],
   "source": [
    "#SVM Classification and Rergession "
   ]
  },
  {
   "cell_type": "code",
   "execution_count": 155,
   "metadata": {},
   "outputs": [
    {
     "data": {
      "text/plain": [
       "'C:\\\\Users\\\\anumeha\\\\Downloads'"
      ]
     },
     "execution_count": 155,
     "metadata": {},
     "output_type": "execute_result"
    }
   ],
   "source": [
    "import os \n",
    "import pandas as pd\n",
    "import matplotlib.pyplot as plt\n",
    "import numpy as np  \n",
    "from sklearn import model_selection\n",
    "from sklearn.model_selection import train_test_split\n",
    "import matplotlib\n",
    "import matplotlib.pyplot as plt\n",
    "from sklearn.svm import SVR, SVC\n",
    "from sklearn.model_selection import RandomizedSearchCV\n",
    "from scipy.stats import reciprocal, uniform\n",
    "from sklearn.model_selection import LeaveOneOut\n",
    "from sklearn.model_selection import KFold\n",
    "from sklearn.model_selection import cross_val_score\n",
    "from sklearn.metrics import accuracy_score\n",
    "from sklearn.model_selection import GridSearchCV\n",
    "from sklearn.metrics import classification_report\n",
    "from sklearn import svm, datasets\n",
    "import matplotlib.pyplot as plt\n",
    "%matplotlib inline\n",
    "from sklearn.utils import shuffle\n",
    "os.getcwd()"
   ]
  },
  {
   "cell_type": "code",
   "execution_count": 156,
   "metadata": {},
   "outputs": [],
   "source": [
    "#Loading given Iris Data\n",
    "os.chdir(\"/Users/anumeha/Downloads/\")\n",
    "BC_data = pd.read_csv('data08_khan.csv', header=None)"
   ]
  },
  {
   "cell_type": "code",
   "execution_count": 157,
   "metadata": {},
   "outputs": [
    {
     "name": "stdout",
     "output_type": "stream",
     "text": [
      "<class 'pandas.core.frame.DataFrame'>\n",
      "RangeIndex: 83 entries, 0 to 82\n",
      "Columns: 2309 entries, 0 to 2308\n",
      "dtypes: float64(2308), int64(1)\n",
      "memory usage: 1.5 MB\n"
     ]
    }
   ],
   "source": [
    "BC_data.info()"
   ]
  },
  {
   "cell_type": "code",
   "execution_count": 158,
   "metadata": {},
   "outputs": [
    {
     "name": "stdout",
     "output_type": "stream",
     "text": [
      "(83L, 2308L)\n",
      "(83L,)\n"
     ]
    }
   ],
   "source": [
    "array = BC_data.values\n",
    "#Select which part of the table is input and which part is output\n",
    "X = array[:,1:2309]\n",
    "y = array[:,0]\n",
    "print(X.shape)\n",
    "print(y.shape)"
   ]
  },
  {
   "cell_type": "code",
   "execution_count": 161,
   "metadata": {},
   "outputs": [],
   "source": [
    "# Split the dataset where training set has first 63 rows and rest is the test set\n",
    "X_train, X_test, y_train, y_test = train_test_split(\n",
    "    X, y, test_size=20, random_state=0)"
   ]
  },
  {
   "cell_type": "code",
   "execution_count": 137,
   "metadata": {},
   "outputs": [
    {
     "name": "stdout",
     "output_type": "stream",
     "text": [
      "(63L, 2308L)\n"
     ]
    }
   ],
   "source": [
    "print(X_train.shape)"
   ]
  },
  {
   "cell_type": "code",
   "execution_count": 160,
   "metadata": {},
   "outputs": [],
   "source": [
    "# Set the parameters by cross-validation for SVC\n",
    "parameters = [{'kernel': ['rbf'],\n",
    "               'gamma': [1e-4, 1e-3, 0.01, 0.1, 0.2, 0.5],\n",
    "                'C': [1, 10, 100, 1000]},\n",
    "              {'kernel': ['linear'], 'C': [1, 10, 100, 1000]},\n",
    "             {'kernel': ['poly'], 'C': [1, 10, 100, 1000]}]"
   ]
  },
  {
   "cell_type": "code",
   "execution_count": 162,
   "metadata": {},
   "outputs": [
    {
     "name": "stdout",
     "output_type": "stream",
     "text": [
      "# Tuning hyper-parameters\n"
     ]
    },
    {
     "data": {
      "text/plain": [
       "GridSearchCV(cv=5, error_score='raise',\n",
       "       estimator=SVC(C=1.0, cache_size=200, class_weight=None, coef0=0.0,\n",
       "  decision_function_shape='ovr', degree=3, gamma='auto', kernel='rbf',\n",
       "  max_iter=-1, probability=False, random_state=None, shrinking=True,\n",
       "  tol=0.001, verbose=False),\n",
       "       fit_params=None, iid=True, n_jobs=1,\n",
       "       param_grid=[{'kernel': ['rbf'], 'C': [1, 10, 100, 1000], 'gamma': [0.0001, 0.001, 0.01, 0.1, 0.2, 0.5]}, {'kernel': ['linear'], 'C': [1, 10, 100, 1000]}, {'kernel': ['poly'], 'C': [1, 10, 100, 1000]}],\n",
       "       pre_dispatch='2*n_jobs', refit=True, return_train_score='warn',\n",
       "       scoring=None, verbose=0)"
      ]
     },
     "execution_count": 162,
     "metadata": {},
     "output_type": "execute_result"
    }
   ],
   "source": [
    "#Fitting the SVC model\n",
    "print(\"# Tuning hyper-parameters\")\n",
    "svc_model = svm.SVC()\n",
    "clf1 = GridSearchCV(svm.SVC(decision_function_shape='ovr'), parameters, cv=5)\n",
    "clf1.fit(X_train, y_train)"
   ]
  },
  {
   "cell_type": "code",
   "execution_count": 148,
   "metadata": {},
   "outputs": [
    {
     "name": "stdout",
     "output_type": "stream",
     "text": [
      "Best parameters set found on development set:\n",
      "{'kernel': 'rbf', 'C': 10, 'gamma': 0.0001}\n",
      "Grid scores on training set:\n",
      "0.476 (+/-0.104) for {'kernel': 'rbf', 'C': 1, 'gamma': 0.0001}\n",
      "0.952 (+/-0.076) for {'kernel': 'rbf', 'C': 1, 'gamma': 0.001}\n",
      "0.381 (+/-0.054) for {'kernel': 'rbf', 'C': 1, 'gamma': 0.01}\n",
      "0.365 (+/-0.021) for {'kernel': 'rbf', 'C': 1, 'gamma': 0.1}\n",
      "0.365 (+/-0.021) for {'kernel': 'rbf', 'C': 1, 'gamma': 0.2}\n",
      "0.365 (+/-0.021) for {'kernel': 'rbf', 'C': 1, 'gamma': 0.5}\n",
      "0.984 (+/-0.059) for {'kernel': 'rbf', 'C': 10, 'gamma': 0.0001}\n",
      "0.952 (+/-0.076) for {'kernel': 'rbf', 'C': 10, 'gamma': 0.001}\n",
      "0.381 (+/-0.054) for {'kernel': 'rbf', 'C': 10, 'gamma': 0.01}\n",
      "0.365 (+/-0.021) for {'kernel': 'rbf', 'C': 10, 'gamma': 0.1}\n",
      "0.365 (+/-0.021) for {'kernel': 'rbf', 'C': 10, 'gamma': 0.2}\n",
      "0.365 (+/-0.021) for {'kernel': 'rbf', 'C': 10, 'gamma': 0.5}\n",
      "0.984 (+/-0.059) for {'kernel': 'rbf', 'C': 100, 'gamma': 0.0001}\n",
      "0.952 (+/-0.076) for {'kernel': 'rbf', 'C': 100, 'gamma': 0.001}\n",
      "0.381 (+/-0.054) for {'kernel': 'rbf', 'C': 100, 'gamma': 0.01}\n",
      "0.365 (+/-0.021) for {'kernel': 'rbf', 'C': 100, 'gamma': 0.1}\n",
      "0.365 (+/-0.021) for {'kernel': 'rbf', 'C': 100, 'gamma': 0.2}\n",
      "0.365 (+/-0.021) for {'kernel': 'rbf', 'C': 100, 'gamma': 0.5}\n",
      "0.984 (+/-0.059) for {'kernel': 'rbf', 'C': 1000, 'gamma': 0.0001}\n",
      "0.952 (+/-0.076) for {'kernel': 'rbf', 'C': 1000, 'gamma': 0.001}\n",
      "0.381 (+/-0.054) for {'kernel': 'rbf', 'C': 1000, 'gamma': 0.01}\n",
      "0.365 (+/-0.021) for {'kernel': 'rbf', 'C': 1000, 'gamma': 0.1}\n",
      "0.365 (+/-0.021) for {'kernel': 'rbf', 'C': 1000, 'gamma': 0.2}\n",
      "0.365 (+/-0.021) for {'kernel': 'rbf', 'C': 1000, 'gamma': 0.5}\n",
      "0.984 (+/-0.059) for {'kernel': 'linear', 'C': 1}\n",
      "0.984 (+/-0.059) for {'kernel': 'linear', 'C': 10}\n",
      "0.984 (+/-0.059) for {'kernel': 'linear', 'C': 100}\n",
      "0.984 (+/-0.059) for {'kernel': 'linear', 'C': 1000}\n",
      "0.952 (+/-0.076) for {'kernel': 'poly', 'C': 1}\n",
      "0.968 (+/-0.071) for {'kernel': 'poly', 'C': 10}\n",
      "0.968 (+/-0.071) for {'kernel': 'poly', 'C': 100}\n",
      "0.968 (+/-0.071) for {'kernel': 'poly', 'C': 1000}\n"
     ]
    }
   ],
   "source": [
    "#Finding the best performance with corresponding kernel function and C\n",
    "print(\"Best parameters set found on development set:\")\n",
    "print(clf1.best_params_)\n",
    "print(\"Grid scores on training set:\")\n",
    "means = clf1.cv_results_['mean_test_score']\n",
    "stds = clf1.cv_results_['std_test_score']\n",
    "for mean, std, params in zip(means, stds, clf1.cv_results_['params']):\n",
    "    print(\"%0.3f (+/-%0.03f) for %r\"\n",
    "          % (mean, std * 2, params))"
   ]
  },
  {
   "cell_type": "code",
   "execution_count": 149,
   "metadata": {},
   "outputs": [
    {
     "name": "stdout",
     "output_type": "stream",
     "text": [
      "Results returned by SVC\n",
      "SVC(C=10, cache_size=200, class_weight=None, coef0=0.0,\n",
      "  decision_function_shape='ovr', degree=3, gamma=0.0001, kernel='rbf',\n",
      "  max_iter=-1, probability=False, random_state=None, shrinking=True,\n",
      "  tol=0.001, verbose=False)\n",
      "0.9841269841269841\n",
      "{'kernel': 'rbf', 'C': 10, 'gamma': 0.0001}\n"
     ]
    }
   ],
   "source": [
    "#SVC final results\n",
    "print(\"Results returned by SVC\")\n",
    "print( clf1.best_estimator_ )\n",
    "print( clf1.best_score_ )\n",
    "print( clf1.best_params_ )"
   ]
  },
  {
   "cell_type": "code",
   "execution_count": 151,
   "metadata": {},
   "outputs": [],
   "source": [
    "# Set the parameters by cross-validation for SVR\n",
    "parameters = [{'kernel': ['rbf'],\n",
    "               'gamma': [1e-4, 1e-3, 0.01, 0.1, 0.2, 0.5],\n",
    "                'C': [1, 10, 100, 1000]},\n",
    "              {'kernel': ['linear'], 'C': [1, 10, 100, 1000]},\n",
    "              {'kernel': ['poly'], 'C': [1, 10, 100, 1000]}]"
   ]
  },
  {
   "cell_type": "code",
   "execution_count": 152,
   "metadata": {},
   "outputs": [
    {
     "name": "stdout",
     "output_type": "stream",
     "text": [
      "# Tuning hyper-parameters\n"
     ]
    },
    {
     "data": {
      "text/plain": [
       "GridSearchCV(cv=5, error_score='raise',\n",
       "       estimator=SVR(C=1.0, cache_size=200, coef0=0.0, degree=3, epsilon=0.1, gamma='auto',\n",
       "  kernel='rbf', max_iter=-1, shrinking=True, tol=0.001, verbose=False),\n",
       "       fit_params=None, iid=True, n_jobs=1,\n",
       "       param_grid=[{'kernel': ['rbf'], 'C': [1, 10, 100, 1000], 'gamma': [0.0001, 0.001, 0.01, 0.1, 0.2, 0.5]}, {'kernel': ['linear'], 'C': [1, 10, 100, 1000]}, {'kernel': ['poly'], 'C': [1, 10, 100, 1000]}],\n",
       "       pre_dispatch='2*n_jobs', refit=True, return_train_score='warn',\n",
       "       scoring=None, verbose=0)"
      ]
     },
     "execution_count": 152,
     "metadata": {},
     "output_type": "execute_result"
    }
   ],
   "source": [
    "#Fitting the SVR model\n",
    "print(\"# Tuning hyper-parameters\")\n",
    "svr_model = svm.SVR()\n",
    "clf2 = GridSearchCV(svr_model, parameters, cv=5)\n",
    "clf2.fit(X_train, y_train)"
   ]
  },
  {
   "cell_type": "code",
   "execution_count": 153,
   "metadata": {},
   "outputs": [
    {
     "name": "stdout",
     "output_type": "stream",
     "text": [
      "Best parameters set found on development set:\n",
      "()\n",
      "{'kernel': 'linear', 'C': 1}\n",
      "()\n",
      "Grid scores on training set:\n",
      "()\n",
      "0.508 (+/-0.338) for {'kernel': 'rbf', 'C': 1, 'gamma': 0.0001}\n",
      "0.684 (+/-0.191) for {'kernel': 'rbf', 'C': 1, 'gamma': 0.001}\n",
      "-0.101 (+/-0.301) for {'kernel': 'rbf', 'C': 1, 'gamma': 0.01}\n",
      "-0.118 (+/-0.303) for {'kernel': 'rbf', 'C': 1, 'gamma': 0.1}\n",
      "-0.123 (+/-0.304) for {'kernel': 'rbf', 'C': 1, 'gamma': 0.2}\n",
      "-0.124 (+/-0.305) for {'kernel': 'rbf', 'C': 1, 'gamma': 0.5}\n",
      "0.879 (+/-0.123) for {'kernel': 'rbf', 'C': 10, 'gamma': 0.0001}\n",
      "0.693 (+/-0.194) for {'kernel': 'rbf', 'C': 10, 'gamma': 0.001}\n",
      "-0.089 (+/-0.302) for {'kernel': 'rbf', 'C': 10, 'gamma': 0.01}\n",
      "-0.105 (+/-0.299) for {'kernel': 'rbf', 'C': 10, 'gamma': 0.1}\n",
      "-0.109 (+/-0.298) for {'kernel': 'rbf', 'C': 10, 'gamma': 0.2}\n",
      "-0.110 (+/-0.298) for {'kernel': 'rbf', 'C': 10, 'gamma': 0.5}\n",
      "0.879 (+/-0.123) for {'kernel': 'rbf', 'C': 100, 'gamma': 0.0001}\n",
      "0.693 (+/-0.194) for {'kernel': 'rbf', 'C': 100, 'gamma': 0.001}\n",
      "-0.089 (+/-0.302) for {'kernel': 'rbf', 'C': 100, 'gamma': 0.01}\n",
      "-0.105 (+/-0.299) for {'kernel': 'rbf', 'C': 100, 'gamma': 0.1}\n",
      "-0.109 (+/-0.298) for {'kernel': 'rbf', 'C': 100, 'gamma': 0.2}\n",
      "-0.110 (+/-0.298) for {'kernel': 'rbf', 'C': 100, 'gamma': 0.5}\n",
      "0.879 (+/-0.123) for {'kernel': 'rbf', 'C': 1000, 'gamma': 0.0001}\n",
      "0.693 (+/-0.194) for {'kernel': 'rbf', 'C': 1000, 'gamma': 0.001}\n",
      "-0.089 (+/-0.302) for {'kernel': 'rbf', 'C': 1000, 'gamma': 0.01}\n",
      "-0.105 (+/-0.299) for {'kernel': 'rbf', 'C': 1000, 'gamma': 0.1}\n",
      "-0.109 (+/-0.298) for {'kernel': 'rbf', 'C': 1000, 'gamma': 0.2}\n",
      "-0.110 (+/-0.298) for {'kernel': 'rbf', 'C': 1000, 'gamma': 0.5}\n",
      "0.888 (+/-0.123) for {'kernel': 'linear', 'C': 1}\n",
      "0.888 (+/-0.123) for {'kernel': 'linear', 'C': 10}\n",
      "0.888 (+/-0.123) for {'kernel': 'linear', 'C': 100}\n",
      "0.888 (+/-0.123) for {'kernel': 'linear', 'C': 1000}\n",
      "0.766 (+/-0.296) for {'kernel': 'poly', 'C': 1}\n",
      "0.775 (+/-0.282) for {'kernel': 'poly', 'C': 10}\n",
      "0.775 (+/-0.282) for {'kernel': 'poly', 'C': 100}\n",
      "0.775 (+/-0.282) for {'kernel': 'poly', 'C': 1000}\n",
      "()\n"
     ]
    }
   ],
   "source": [
    "#Finding the best performance with corresponding kernel function and C\n",
    "print(\"Best parameters set found on development set:\")\n",
    "print()\n",
    "print(clf2.best_params_)\n",
    "print()\n",
    "print(\"Grid scores on training set:\")\n",
    "print()\n",
    "means = clf2.cv_results_['mean_test_score']\n",
    "stds = clf2.cv_results_['std_test_score']\n",
    "for mean, std, params in zip(means, stds, clf2.cv_results_['params']):\n",
    "    print(\"%0.3f (+/-%0.03f) for %r\"\n",
    "          % (mean, std * 2, params))\n",
    "print()"
   ]
  },
  {
   "cell_type": "code",
   "execution_count": 154,
   "metadata": {},
   "outputs": [
    {
     "name": "stdout",
     "output_type": "stream",
     "text": [
      "Results returned by SVR\n",
      "SVR(C=1, cache_size=200, coef0=0.0, degree=3, epsilon=0.1, gamma='auto',\n",
      "  kernel='linear', max_iter=-1, shrinking=True, tol=0.001, verbose=False)\n",
      "0.8876509818516161\n",
      "{'kernel': 'linear', 'C': 1}\n"
     ]
    }
   ],
   "source": [
    "#Final results for SVR\n",
    "print(\"Results returned by SVR\")\n",
    "print( clf2.best_estimator_ )\n",
    "print( clf2.best_score_ )\n",
    "print( clf2.best_params_ )"
   ]
  },
  {
   "cell_type": "code",
   "execution_count": null,
   "metadata": {},
   "outputs": [],
   "source": []
  }
 ],
 "metadata": {
  "kernelspec": {
   "display_name": "Python 2",
   "language": "python",
   "name": "python2"
  },
  "language_info": {
   "codemirror_mode": {
    "name": "ipython",
    "version": 2
   },
   "file_extension": ".py",
   "mimetype": "text/x-python",
   "name": "python",
   "nbconvert_exporter": "python",
   "pygments_lexer": "ipython2",
   "version": "2.7.15"
  }
 },
 "nbformat": 4,
 "nbformat_minor": 2
}
